{
 "cells": [
  {
   "cell_type": "code",
   "execution_count": 1,
   "metadata": {},
   "outputs": [],
   "source": [
    "from flask import Flask, request, jsonify\n",
    "import cv2\n",
    "from src.hand_tracker_nms import HandTrackerNMS\n",
    "import src.extra\n",
    "import joblib\n",
    "import numpy as np\n",
    "import base64"
   ]
  },
  {
   "cell_type": "code",
   "execution_count": null,
   "metadata": {},
   "outputs": [],
   "source": [
    "\n"
   ]
  },
  {
   "cell_type": "code",
   "execution_count": 1,
   "metadata": {},
   "outputs": [
    {
     "name": "stdout",
     "output_type": "stream",
     "text": [
      " * Serving Flask app '__main__'\n",
      " * Debug mode: off\n"
     ]
    },
    {
     "name": "stderr",
     "output_type": "stream",
     "text": [
      "WARNING: This is a development server. Do not use it in a production deployment. Use a production WSGI server instead.\n",
      " * Running on all addresses (0.0.0.0)\n",
      " * Running on http://127.0.0.1:5000\n",
      " * Running on http://192.168.100.68:5000\n",
      "Press CTRL+C to quit\n"
     ]
    }
   ],
   "source": [
    "from flask import Flask, request, jsonify\n",
    "import cv2\n",
    "from src.hand_tracker_nms import HandTrackerNMS\n",
    "import src.extra\n",
    "import joblib\n",
    "import numpy as np\n",
    "import base64\n",
    "from flask_cors import CORS\n",
    "\n",
    "app = Flask(__name__)\n",
    "CORS(app)\n",
    "\n",
    "PALM_MODEL_PATH = \"models/palm_detection_without_custom_op.tflite\"\n",
    "LANDMARK_MODEL_PATH = \"models/hand_landmark.tflite\"\n",
    "ANCHORS_PATH = \"models/anchors.csv\"\n",
    "\n",
    "connections = src.extra.connections\n",
    "int_to_char = src.extra.classes\n",
    "\n",
    "detector = HandTrackerNMS(\n",
    "    PALM_MODEL_PATH,\n",
    "    LANDMARK_MODEL_PATH,\n",
    "    ANCHORS_PATH,\n",
    "    box_shift=0.2,\n",
    "    box_enlarge=1.3\n",
    ")\n",
    "\n",
    "gesture_clf = joblib.load(r'models/gesture_clf.pkl')\n",
    "\n",
    "word = []\n",
    "letter = \"\"\n",
    "staticGesture = 0\n",
    "\n",
    "def process_frame(image):\n",
    "    global letter, staticGesture, word\n",
    "    image = cv2.cvtColor(image, cv2.COLOR_BGR2RGB)\n",
    "    points, bboxes, joints = detector(image)\n",
    "    if points is not None:\n",
    "        src.extra.draw_points(points, image)\n",
    "        pred_sign = src.extra.predict_sign(joints, gesture_clf, int_to_char)\n",
    "        if letter == pred_sign:\n",
    "            staticGesture += 1\n",
    "        else:\n",
    "            letter = pred_sign\n",
    "            staticGesture = 0\n",
    "        if staticGesture > 6:\n",
    "            word.append(letter)\n",
    "            staticGesture = 0\n",
    "\n",
    "    if points is None:\n",
    "        try:\n",
    "            if word[-1] != \" \":\n",
    "                staticGesture += 1\n",
    "                if staticGesture > 6:\n",
    "                    word.append(\" \")\n",
    "                    staticGesture = 0\n",
    "        except IndexError:\n",
    "            print(\"list 'word' is empty\")\n",
    "\n",
    "    src.extra.draw_sign(word, image, (50, 460))\n",
    "    return image, word\n",
    "\n",
    "@app.route('/process', methods=['POST'])\n",
    "def process():\n",
    "    data = request.json\n",
    "    image_data = base64.b64decode(data['image'])\n",
    "    nparr = np.frombuffer(image_data, np.uint8)\n",
    "    image = cv2.imdecode(nparr, cv2.IMREAD_COLOR)\n",
    "\n",
    "    processed_frame, word = process_frame(image)\n",
    "    _, buffer = cv2.imencode('.jpg', processed_frame)\n",
    "    processed_image = base64.b64encode(buffer).decode('utf-8')\n",
    "\n",
    "    return jsonify({'image': processed_image, 'word': ''.join(word)})\n",
    "\n",
    "if __name__ == '__main__':\n",
    "    app.run(host='0.0.0.0', port=5000)\n"
   ]
  }
 ],
 "metadata": {
  "kernelspec": {
   "display_name": "Python 3",
   "language": "python",
   "name": "python3"
  },
  "language_info": {
   "codemirror_mode": {
    "name": "ipython",
    "version": 3
   },
   "file_extension": ".py",
   "mimetype": "text/x-python",
   "name": "python",
   "nbconvert_exporter": "python",
   "pygments_lexer": "ipython3",
   "version": "3.12.0"
  }
 },
 "nbformat": 4,
 "nbformat_minor": 2
}
